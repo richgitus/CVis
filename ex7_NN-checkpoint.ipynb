{
 "cells": [
  {
   "cell_type": "code",
   "execution_count": 23,
   "metadata": {},
   "outputs": [],
   "source": [
    "import numpy as np\n",
    "\n",
    "def random(lo=0,hi=1):\n",
    "    return lo\n",
    "\n",
    "def net(net_structure):\n",
    "    net = []\n",
    "    for l in range(len(net_structure)-1):\n",
    "        net.append([])\n",
    "        for i in range(net_structure[l]):\n",
    "            net[l].append([])\n",
    "            for j in range(net_structure[l+1]):\n",
    "                net[l][i].append(random(l,l))\n",
    "    return net\n",
    "\n",
    "def activation(x):\n",
    "    if x>0:\n",
    "        return x\n",
    "    else:\n",
    "        return 0\n",
    "\n",
    "def feed_forward(net, _input):\n",
    "    layer_input = _input\n",
    "    for l in range(len(net)):\n",
    "        layer_output = [0] * len(layer_input)\n",
    "        for i in range(len(net[l])):\n",
    "            for j in range(len(net[l][i])):\n",
    "                layer_output[j] += net[l][i][j] * layer_input[i]\n",
    "    return layer_output\n",
    "\n",
    "def normalize(net):\n",
    "    for l in range(len(net)):\n",
    "        layer_sum = 0\n",
    "        for i in range(len(net[l])):\n",
    "            for j in range(len(net[l][i])):\n",
    "                layer_sum += net[l][i][j]\n",
    "        if layer_sum==0:\n",
    "            layer_sum = 1\n",
    "            print(\"ist 0\")\n",
    "        for i in range(len(net[l])):\n",
    "            for j in range(len(net[l][i])):\n",
    "                net[l][i][j] = net[l][i][j] / layer_sum    \n",
    "        return net"
   ]
  },
  {
   "cell_type": "code",
   "execution_count": 24,
   "metadata": {},
   "outputs": [
    {
     "name": "stdout",
     "output_type": "stream",
     "text": [
      "[[[0, 0, 0, 0], [0, 0, 0, 0]], [[1, 1, 1, 1], [1, 1, 1, 1], [1, 1, 1, 1], [1, 1, 1, 1]], [[2, 2], [2, 2], [2, 2], [2, 2]]]\n"
     ]
    }
   ],
   "source": [
    "net_structure = [2,4,4,2]\n",
    "net = net(net_structure)\n",
    "print(net)"
   ]
  },
  {
   "cell_type": "code",
   "execution_count": 25,
   "metadata": {},
   "outputs": [
    {
     "name": "stdout",
     "output_type": "stream",
     "text": [
      "ist 0\n",
      "[[[0.0, 0.0, 0.0, 0.0], [0.0, 0.0, 0.0, 0.0]], [[1, 1, 1, 1], [1, 1, 1, 1], [1, 1, 1, 1], [1, 1, 1, 1]], [[2, 2], [2, 2], [2, 2], [2, 2]]]\n"
     ]
    }
   ],
   "source": [
    "net_norm = normalize(net)\n",
    "print(net_norm)"
   ]
  },
  {
   "cell_type": "code",
   "execution_count": null,
   "metadata": {},
   "outputs": [],
   "source": []
  },
  {
   "cell_type": "code",
   "execution_count": null,
   "metadata": {},
   "outputs": [],
   "source": []
  }
 ],
 "metadata": {
  "kernelspec": {
   "display_name": "Python 3",
   "language": "python",
   "name": "python3"
  },
  "language_info": {
   "codemirror_mode": {
    "name": "ipython",
    "version": 3
   },
   "file_extension": ".py",
   "mimetype": "text/x-python",
   "name": "python",
   "nbconvert_exporter": "python",
   "pygments_lexer": "ipython3",
   "version": "3.7.3"
  }
 },
 "nbformat": 4,
 "nbformat_minor": 2
}
